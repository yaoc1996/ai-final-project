{
 "cells": [
  {
   "cell_type": "code",
   "execution_count": 55,
   "metadata": {},
   "outputs": [],
   "source": [
    "from cv2 import xfeatures2d\n",
    "import cv2\n",
    "import pandas as pd\n",
    "import numpy as np\n",
    "from sklearn.cluster import KMeans, MiniBatchKMeans"
   ]
  },
  {
   "cell_type": "code",
   "execution_count": 56,
   "metadata": {},
   "outputs": [],
   "source": [
    "df = pd.read_csv(\"Data_Entry_2017.csv\")\n",
    "data = df[[\"Image Index\", \"Finding Labels\"]]\n",
    "diagnosis_map = dict();\n",
    "diagnosis_set = set();\n",
    "\n",
    "for key, val in data.values:\n",
    "    diagnosis_map[key] = val.split('|')\n",
    "    for d in diagnosis_map[key]:\n",
    "        diagnosis_set.add(d)\n",
    "    \n",
    "diagnosis_idx = {v:i for i, v in enumerate(diagnosis_set)}\n",
    "diagnosis_idx_inv = {v:k for k, v in diagnosis_idx.items()}\n",
    "\n",
    "def construct_output_vector(diagnosis):\n",
    "    v = [0 for _ in range(len(diagnosis_idx))]\n",
    "    \n",
    "    for d in diagnosis:\n",
    "        v[diagnosis_idx[d]] = 1\n",
    "        \n",
    "    return v\n"
   ]
  },
  {
   "cell_type": "code",
   "execution_count": 57,
   "metadata": {},
   "outputs": [
    {
     "data": {
      "text/plain": [
       "''"
      ]
     },
     "execution_count": 57,
     "metadata": {},
     "output_type": "execute_result"
    },
    {
     "data": {
      "image/png": "[encoded data removed]",
      "text/plain": [
       "<Figure size 432x288 with 1 Axes>"
      ]
     },
     "metadata": {
      "needs_background": "light"
     },
     "output_type": "display_data"
    }
   ],
   "source": [
    "diagnosis_freq = [0 for _ in range(len(diagnosis_idx))]\n",
    "\n",
    "for key, val in diagnosis_map.items():\n",
    "    for d in val:\n",
    "        diagnosis_freq[diagnosis_idx[d]] += 1\n",
    "        \n",
    "from matplotlib import pyplot as plt\n",
    "\n",
    "ticks = [None for _ in range(len(diagnosis_idx))]\n",
    "for key, val in diagnosis_idx.items():\n",
    "    ticks[val] = key\n",
    "\n",
    "plt.barh(range(len(diagnosis_idx)), diagnosis_freq)\n",
    "plt.yticks(range(len(diagnosis_idx)), ticks)\n",
    "plt.xlabel('count')\n",
    "\n",
    "''"
   ]
  },
  {
   "cell_type": "code",
   "execution_count": 58,
   "metadata": {},
   "outputs": [],
   "source": [
    "train_list_fn = 'train_val_list.txt'\n",
    "test_list_fn = 'test_list.txt'\n",
    "\n",
    "fi = open(train_list_fn, 'r')\n",
    "train_list = list(map(lambda s: s.strip(), fi.readlines()))\n",
    "fi.close()\n",
    "\n",
    "fi = open(test_list_fn, 'r')\n",
    "test_list = list(map(lambda s: s.strip(), fi.readlines()))\n",
    "fi.close()\n",
    "\n",
    "train_diagnosis_vectors = [construct_output_vector(diagnosis_map[fn]) for fn in train_list]\n",
    "test_diagnosis_vectors = [construct_output_vector(diagnosis_map[fn]) for fn in test_list]"
   ]
  },
  {
   "cell_type": "code",
   "execution_count": 17,
   "metadata": {},
   "outputs": [
    {
     "name": "stdout",
     "output_type": "stream",
     "text": [
      "23.74214768409729\n"
     ]
    }
   ],
   "source": [
    "sift = xfeatures2d.SIFT_create()\n",
    "\n",
    "in_dir = 'images/'\n",
    "\n",
    "def get_image_descriptors(fn):\n",
    "    im = cv2.imread(fn)\n",
    "    im = cv2.resize(im, (128, 128))\n",
    "    gray_im = cv2.cvtColor(im, cv2.COLOR_BGR2GRAY)\n",
    "    _, descriptors = sift.detectAndCompute(gray_im, None)\n",
    "    \n",
    "    return descriptors\n",
    "\n",
    "import time\n",
    "start = time.time()\n",
    "\n",
    "train_image_descriptors = [get_image_descriptors(in_dir + fn) for fn in train_list[:1000]]\n",
    "test_image_descriptors = [get_image_descriptors(in_dir + fn) for fn in test_list[:100]]\n",
    "\n",
    "end = time.time()\n",
    "print(end - start)"
   ]
  },
  {
   "cell_type": "code",
   "execution_count": 62,
   "metadata": {},
   "outputs": [
    {
     "data": {
      "text/plain": [
       "3655706000.0"
      ]
     },
     "execution_count": 62,
     "metadata": {},
     "output_type": "execute_result"
    }
   ],
   "source": [
    "kmeans = MiniBatchKMeans(n_clusters=1000, init)\n",
    "# kmeans.inertia_\n",
    "\n",
    "flattened = np.concatenate(train_image_descriptors)\n",
    "# rand_ids = np.random.choice(len(flattened), 10000)\n",
    "\n",
    "kmeans.fit(flattened)\n",
    "kmeans.inertia_"
   ]
  },
  {
   "cell_type": "code",
   "execution_count": 197,
   "metadata": {},
   "outputs": [
    {
     "name": "stdout",
     "output_type": "stream",
     "text": [
      "0.0184328556060791\n"
     ]
    }
   ],
   "source": [
    "im = cv2.imread(\"images/00000643_007.png\")\n",
    "im = cv2.resize(im, (256, 256))\n",
    "gray = cv2.cvtColor(im, cv2.COLOR_BGR2GRAY)\n",
    "\n",
    "import time\n",
    "start = time.time()\n",
    "\n",
    "sift = xfeatures2d.SIFT_create()\n",
    "keypoints, descriptors = sift.detectAndCompute(gray, None)\n",
    "\n",
    "end = time.time()\n",
    "print(end - start)\n",
    "\n",
    "im_sift = cv2.drawKeypoints(gray, keypoints, im);\n",
    "\n",
    "cv2.imshow(\"image\", im_sift)\n",
    "cv2.waitKey(0)\n",
    "cv2.destroyAllWindows()\n",
    "\n",
    "# len(keypoints)"
   ]
  },
  {
   "cell_type": "code",
   "execution_count": 123,
   "metadata": {},
   "outputs": [],
   "source": [
    "demo_list = [list() for _ in range(len(diagnosis_idx))]\n",
    "\n",
    "i = 0\n",
    "n_per_type = 5\n",
    "demo_count = 0\n",
    "demo_quota = len(diagnosis_idx) * n_per_type\n",
    "while True:\n",
    "    for d in diagnosis_map[train_list[i]]:\n",
    "        if len(demo_list[diagnosis_idx[d]]) < n_per_type:\n",
    "            demo_list[diagnosis_idx[d]].append(i)\n",
    "            demo_count += 1\n",
    "\n",
    "    if demo_count == demo_quota:\n",
    "        break\n",
    "        \n",
    "    i += 1\n",
    "    \n",
    "in_dir = 'images/'\n",
    "out_dir = 'demo_images/'\n",
    "for i in range(len(demo_list)):\n",
    "    for j in range(len(demo_list[i])):\n",
    "        im = cv2.imread(in_dir + train_list[demo_list[i][j]])\n",
    "        w128h128 = cv2.resize(im, (128, 128))\n",
    "        cv2.imwrite(out_dir + diagnosis_idx_inv[i] + '{}.png'.format(j), w128h128)"
   ]
  },
  {
   "cell_type": "code",
   "execution_count": 111,
   "metadata": {},
   "outputs": [
    {
     "data": {
      "text/plain": [
       "[[2, 12, 20, 29, 33],\n",
       " [179, 234, 282, 283, 284],\n",
       " [1, 18, 53, 60, 80],\n",
       " [26, 37, 56, 57, 59],\n",
       " [82, 93, 164, 166, 257],\n",
       " [0, 1, 2, 15, 59],\n",
       " [4, 29, 49, 82, 142],\n",
       " [153, 158, 161, 379, 572],\n",
       " [314, 1083, 1084, 1865, 2475],\n",
       " [4, 17, 33, 41, 49],\n",
       " [39, 40, 44, 50, 59],\n",
       " [3, 5, 6, 7, 8],\n",
       " [37, 38, 40, 54, 94],\n",
       " [130, 153, 156, 421, 452],\n",
       " [11, 12, 19, 25, 27]]"
      ]
     },
     "execution_count": 111,
     "metadata": {},
     "output_type": "execute_result"
    }
   ],
   "source": []
  }
 ],
 "metadata": {
  "kernelspec": {
   "display_name": "Python 3",
   "language": "python",
   "name": "python3"
  },
  "language_info": {
   "codemirror_mode": {
    "name": "ipython",
    "version": 3
   },
   "file_extension": ".py",
   "mimetype": "text/x-python",
   "name": "python",
   "nbconvert_exporter": "python",
   "pygments_lexer": "ipython3",
   "version": "3.7.4"
  }
 },
 "nbformat": 4,
 "nbformat_minor": 2
}
